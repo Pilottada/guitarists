{
 "cells": [
  {
   "cell_type": "code",
   "execution_count": 47,
   "metadata": {},
   "outputs": [],
   "source": [
    "from guitarists import list_of_guitarists\n",
    "import pandas as pd\n",
    "\n",
    "def csv_creator ():\n",
    "        players = []\n",
    "        bands = []\n",
    "        for key, value in list_of_guitarists.items():\n",
    "            players+=[key]\n",
    "            bands+=[value]\n",
    "        csv_players = pd.DataFrame(players, bands, columns = [ \"Players\"])\n",
    "        csv_players = csv_players.reset_index()\n",
    "        csv_players = csv_players.rename(columns={\"index\":\"bands\"})\n",
    "        csv_players.to_csv (\"players_bands.csv\")"
   ]
  },
  {
   "cell_type": "code",
   "execution_count": 48,
   "metadata": {
    "collapsed": true
   },
   "outputs": [
    {
     "name": "stdout",
     "output_type": "stream",
     "text": [
      "\n",
      "The following command must be run outside of the IPython shell:\n",
      "\n",
      "    $ pip install pandas\n",
      "\n",
      "The Python package manager (pip) can only be used from outside of IPython.\n",
      "Please reissue the `pip` command in a separate terminal or command prompt.\n",
      "\n",
      "See the Python documentation for more information on how to install packages:\n",
      "\n",
      "    https://docs.python.org/3/installing/\n"
     ]
    }
   ],
   "source": [
    "pip install pandas\n"
   ]
  }
 ],
 "metadata": {
  "kernelspec": {
   "display_name": "Python 3",
   "language": "python",
   "name": "python3"
  },
  "language_info": {
   "codemirror_mode": {
    "name": "ipython",
    "version": 3
   },
   "file_extension": ".py",
   "mimetype": "text/x-python",
   "name": "python",
   "nbconvert_exporter": "python",
   "pygments_lexer": "ipython3",
   "version": "3.7.1"
  }
 },
 "nbformat": 4,
 "nbformat_minor": 2
}
