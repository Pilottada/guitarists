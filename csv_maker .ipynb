{
 "cells": [
  {
   "cell_type": "code",
   "execution_count": 47,
   "metadata": {},
   "outputs": [],
   "source": [
    "from guitarists import list_of_guitarists\n",
    "import pandas as pd\n",
    "\n",
    "def csv_creator ():\n",
    "        players = []\n",
    "        bands = []\n",
    "        for key, value in list_of_guitarists.items():\n",
    "            players+=[key]\n",
    "            bands+=[value]\n",
    "        csv_players = pd.DataFrame(players, bands, columns = [ \"Players\"])\n",
    "        csv_players = csv_players.reset_index()\n",
    "        csv_players = csv_players.rename(columns={\"index\":\"bands\"})\n",
    "        csv_players.to_csv (\"players_bands.csv\")"
   ]
  }
 ],
 "metadata": {
  "kernelspec": {
   "display_name": "Python 3",
   "language": "python",
   "name": "python3"
  },
  "language_info": {
   "codemirror_mode": {
    "name": "ipython",
    "version": 3
   },
   "file_extension": ".py",
   "mimetype": "text/x-python",
   "name": "python",
   "nbconvert_exporter": "python",
   "pygments_lexer": "ipython3",
   "version": "3.7.1"
  }
 },
 "nbformat": 4,
 "nbformat_minor": 2
}
