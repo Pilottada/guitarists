{
 "cells": [
  {
   "cell_type": "markdown",
   "metadata": {},
   "source": [
    "This is the README file for the Pillotada Project of Software project development\n",
    "I honestly don't know if i'm doing well, but nevermind, i'll try to do it anyway \n",
    "\n",
    "let's go! \n",
    "\n",
    "The aim of the project is to create a database containing all the most famous guitarists associated with their respective bands.  \n",
    "Once the name of a guitarist (e.g. Brian May) has been entered as input, the program controls if the name of the guitarist or of the band is already present in the dataset. \n",
    "if it is not, the progranm will kindly ask you if you wanna add the couple (guitarist + band).\n",
    "\n",
    "On the other hand, if the name is already present (input ex. \"Brian May\"), the \"get_band\" function will return the name of the character's respective band. (Queen in this case).\n",
    "Of course, it also works the other way around. (entering the band name, it will return the guitarist's name of that band) \n",
    "\n",
    "To increase the speed of interaction, the user can access the shortcut -a.\n",
    "This command allows you to skip a step and add a new component or band name directly to the database by simply writing the -a keyword next to the new name to add.\n",
    "\n",
    "ex. --> John -a .\n",
    "\n",
    "The program will then ask the user to specify whether the name entered concerns a band or the guitarist. When you reach this point, to add a guitarist the input command is -g, for a band -b.\n",
    "\n",
    "The functions `guitarists.py`, `get_guitarist`and `get_band` are all stored in the `main.py` file.\n",
    "\n",
    " If you run the program, executing the main file with: ```python main.py``` it will give you the following results:\n",
    "\n",
    "```\n",
    "Kirk Hammet plays for Metallica\n",
    "Sorry, Young Signorino does not seem to be a known guitarist\n",
    "The guitar hero of Guns'n Roses is Slash\n",
    "Sorry, we don't know who is the guitar hero of Ricchi e Poveri\n",
    "```\n",
    "To do so, we preferred storing the guitarists' and band's names into a csv file in order to keep it neat and tidy. \n",
    "\n",
    "\n",
    "\n",
    "\n",
    "\n",
    "\n",
    "\n",
    "\n"
   ]
  }
 ],
 "metadata": {
  "kernelspec": {
   "display_name": "Python 3",
   "language": "python",
   "name": "python3"
  },
  "language_info": {
   "codemirror_mode": {
    "name": "ipython",
    "version": 3
   },
   "file_extension": ".py",
   "mimetype": "text/x-python",
   "name": "python",
   "nbconvert_exporter": "python",
   "pygments_lexer": "ipython3",
   "version": "3.8.5"
  }
 },
 "nbformat": 4,
 "nbformat_minor": 4
}
